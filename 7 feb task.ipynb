{
 "cells": [
  {
   "cell_type": "code",
   "execution_count": 17,
   "id": "96344890-17c2-45cd-9934-8e4c7ca924c6",
   "metadata": {},
   "outputs": [
    {
     "name": "stdin",
     "output_type": "stream",
     "text": [
      "password AMANaman@@@123\n"
     ]
    },
    {
     "data": {
      "text/plain": [
       "'Valid Password'"
      ]
     },
     "execution_count": 17,
     "metadata": {},
     "output_type": "execute_result"
    }
   ],
   "source": [
    "#Question 1:\n",
    "#Answer:\n",
    "\n",
    "def verifying_password(password):\n",
    "    uppercase = 0\n",
    "    lowercase = 0\n",
    "    number = 0\n",
    "    special_character = 0\n",
    "    length = len(password)\n",
    "    \n",
    "    for i in password:\n",
    "        if i.isupper():\n",
    "            uppercase = uppercase + 1\n",
    "            \n",
    "            \n",
    "        elif i.islower():\n",
    "            lowercase = lowercase + 1\n",
    "            \n",
    "        else:\n",
    "            if i.isdigit():\n",
    "                number = number + 1\n",
    "                \n",
    "                \n",
    "    for j in password:\n",
    "        if j.isalpha():\n",
    "            continue\n",
    "        if j.isdigit():\n",
    "            continue\n",
    "        special_character = special_character + 1\n",
    "        \n",
    "        \n",
    "    if uppercase>=2 and lowercase>=2 and number>=1 and special_character>=3 and length>=10:\n",
    "        return \"Valid Password\"\n",
    "    else:\n",
    "        return \"Invalid Password\"\n",
    "                \n",
    "password = input(\"password\")\n",
    "verifying_password(password)"
   ]
  },
  {
   "cell_type": "code",
   "execution_count": 51,
   "id": "4b97db56-3ce8-4564-8cec-1013e1da8633",
   "metadata": {},
   "outputs": [
    {
     "name": "stdout",
     "output_type": "stream",
     "text": [
      "True\n",
      "True\n",
      "[('orange', 80), ('mango', 99), ('grapes', 1000)]\n",
      "[1, 4, 9, 16, 25, 36, 49, 64, 81, 100]\n",
      "[1, 4, 9, 16, 25, 36, 49, 64, 81, 100]\n",
      "[1.0, 1.2599210498948732, 1.4422495703074083, 1.5874010519681994, 1.7099759466766968, 1.8171205928321397, 1.912931182772389, 2.0, 2.080083823051904, 2.154434690031884]\n",
      "[1.0, 1.2599210498948732, 1.4422495703074083, 1.5874010519681994, 1.7099759466766968, 1.8171205928321397, 1.912931182772389, 2.0, 2.080083823051904, 2.154434690031884]\n",
      "['True']\n",
      "[1, 3, 5, 7, 9]\n",
      "[1, 2, 3, 4, 5, 6, 0]\n",
      "[-1, -2, -3, -4, -5]\n"
     ]
    }
   ],
   "source": [
    "#Question 2:\n",
    "#Answer:\n",
    "\n",
    "#check if the string starts with a particular method:\n",
    "#using list comprehension:\n",
    "string = \"aman\"\n",
    "letter = \"a\"\n",
    "check = ['True' if string[0] == letter else 'False']\n",
    "print(check[0])\n",
    "\n",
    "# check if the string is numeric.\n",
    "#using list comprehension.\n",
    "string = '12543564'\n",
    "check = ['True' if string.isdigit() else 'False']\n",
    "print(check[0])\n",
    "\n",
    "#sort list of tuples\n",
    "#using lambda function\n",
    "l1 =  [(\"mango\",99),(\"orange\",80), (\"grapes\", 1000)]\n",
    "sorted_l1 = sorted(l1,key = lambda x: x[1])\n",
    "print(sorted_l1)\n",
    "\n",
    "#square of number 1 to 10\n",
    "#using map function\n",
    "n = [1,2,3,4,5,6,7,8,9,10]\n",
    "sqr = list(map(lambda x: x**2,n))\n",
    "print(sqr)\n",
    "#using list comprehension\n",
    "square = [i**2 for i in n]\n",
    "print(square)\n",
    "\n",
    "#cube root of number from 1 to 10\n",
    "#using map function\n",
    "import math\n",
    "num = [1,2,3,4,5,6,7,8,9,10]\n",
    "cube_root = list(map(lambda x: math.pow(x,1/3),num ))\n",
    "print(cube_root)\n",
    "#using list comprehension\n",
    "cube_root1 = [math.pow(i,1/3) for i in num]\n",
    "print(cube_root1)\n",
    "\n",
    "#check if a given number is even\n",
    "#using list comprehension.\n",
    "number = 6\n",
    "check_even = ['True' if number%2==0 else 'False']\n",
    "print(check_even)\n",
    "\n",
    "# find odd no. in a given list.\n",
    "#using list comprehension.\n",
    "l2 = [1,2,3,4,5,6,7,8,9,10]\n",
    "check_odd = [i for i in l2 if i%2!=0]\n",
    "print(check_odd)\n",
    "\n",
    "\n",
    "#sort a list of intrgers into positive and negative integers lists.\n",
    "#using list comprehension.\n",
    "l3 =  [1,2,3,4,5,6,-1,-2,-3,-4,-5,0] \n",
    "positive = [i for i in l3 if i>=0]\n",
    "negative = [j for j in l3 if j<0]\n",
    "print(positive)\n",
    "print(negative)\n",
    "\n"
   ]
  },
  {
   "cell_type": "code",
   "execution_count": null,
   "id": "170188cb-5385-48f6-8c31-cf66cbfa0110",
   "metadata": {},
   "outputs": [],
   "source": []
  }
 ],
 "metadata": {
  "kernelspec": {
   "display_name": "Python 3 (ipykernel)",
   "language": "python",
   "name": "python3"
  },
  "language_info": {
   "codemirror_mode": {
    "name": "ipython",
    "version": 3
   },
   "file_extension": ".py",
   "mimetype": "text/x-python",
   "name": "python",
   "nbconvert_exporter": "python",
   "pygments_lexer": "ipython3",
   "version": "3.10.8"
  }
 },
 "nbformat": 4,
 "nbformat_minor": 5
}
